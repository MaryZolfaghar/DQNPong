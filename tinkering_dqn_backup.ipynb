{
 "cells": [
  {
   "cell_type": "markdown",
   "metadata": {},
   "source": [
    "# DQN"
   ]
  },
  {
   "cell_type": "code",
   "execution_count": 2,
   "metadata": {},
   "outputs": [],
   "source": [
    "from collections import deque\n",
    "import numpy as np\n",
    "import matplotlib.pyplot as plt\n",
    "import torch\n",
    "import torch.nn as nn\n",
    "import torch.autograd as autograd\n",
    "import math, random"
   ]
  },
  {
   "cell_type": "code",
   "execution_count": 3,
   "metadata": {},
   "outputs": [
    {
     "name": "stdout",
     "output_type": "stream",
     "text": [
      "True\n"
     ]
    }
   ],
   "source": [
    "Variable = lambda *args, **kwargs: autograd.Variable(*args, **kwargs).cuda() if USE_CUDA else autograd.Variable(*args, **kwargs)\n",
    "USE_CUDA = torch.cuda.is_available()\n",
    "print(USE_CUDA)"
   ]
  },
  {
   "cell_type": "code",
   "execution_count": 72,
   "metadata": {},
   "outputs": [],
   "source": [
    "\"\"\"\n",
    "Deep Q Network\n",
    "\"\"\"\n",
    "\n",
    "from collections import deque\n",
    "import numpy as np\n",
    "import matplotlib.pyplot as plt\n",
    "import torch\n",
    "import torch.nn.functional as F\n",
    "import torch.nn as nn\n",
    "import torch.autograd as autograd\n",
    "import math, random\n",
    "\n",
    "Variable = lambda *args, **kwargs: autograd.Variable(*args, **kwargs).cuda() if USE_CUDA else autograd.Variable(*args, **kwargs)\n",
    "USE_CUDA = torch.cuda.is_available()\n",
    "\n",
    "\n",
    "class QLearner(nn.Module):\n",
    "    def __init__(self, env, args, replay_buffer):\n",
    "        super(QLearner, self).__init__()\n",
    "\n",
    "        self.batch_size = args.batch_size\n",
    "        self.gamma = args.gamma\n",
    "        self.num_frames = args.num_frames\n",
    "        self.replay_buffer = replay_buffer\n",
    "        self.env = env\n",
    "        self.input_shape = self.env.observation_space.shape\n",
    "        self.num_actions = self.env.action_space.n\n",
    "        self.N = args.N\n",
    "\n",
    "\n",
    "        self.features = nn.Sequential(\n",
    "            nn.Conv2d(self.input_shape[0], 32, kernel_size=8, stride=4),\n",
    "            nn.ReLU(),\n",
    "            nn.Conv2d(32, 64, kernel_size=4, stride=2),\n",
    "            nn.ReLU(),\n",
    "            nn.Conv2d(64, 64, kernel_size=3, stride=1),\n",
    "            nn.ReLU()\n",
    "        )\n",
    "        # self.features = nn.Sequential(\n",
    "        #     nn.Conv2d(self.input_shape[0], 32, kernel_size=3, stride=1),\n",
    "        #     nn.ReLU(),\n",
    "        #     nn.Conv2d(32, 32, kernel_size=3, stride=1),\n",
    "        #     nn.ReLU(),\n",
    "        #     nn.Conv2d(32, 32, kernel_size=3, stride=1),\n",
    "        #     nn.ReLU()\n",
    "        # )\n",
    "        self.fc = nn.Sequential(\n",
    "            nn.Linear(self.feature_size(), 512),\n",
    "            nn.ReLU(),\n",
    "            nn.Linear(512, self.num_actions)\n",
    "        )\n",
    "    #     self.emb = nn.Sequential(\n",
    "    #         nn.Linear(self.feature_size(), 512),\n",
    "    #         nn.ReLU()\n",
    "    #     )\n",
    "    # def embeddings(self, x):\n",
    "    #     x = self.features(x)\n",
    "    #     x = self.emb(x)\n",
    "    #     return x\n",
    "\n",
    "    def forward(self, x):\n",
    "        x = self.features(x)\n",
    "        x = x.view(x.size(0), -1)\n",
    "        x = self.fc(x)\n",
    "        return x\n",
    "\n",
    "    def feature_size(self):\n",
    "            return self.features(autograd.Variable(torch.zeros(1, *self.input_shape))).view(1, -1).size(1)\n",
    "\n",
    "    def act(self, state, epsilon):\n",
    "        action = []\n",
    "\n",
    "        if random.random() > epsilon:\n",
    "            state   = Variable(torch.FloatTensor(np.float32(state)).unsqueeze(0), \\\n",
    "                               requires_grad=True)\n",
    "            ######## YOUR CODE HERE! ########\n",
    "            # TODO: Given state, you should write code to get the Q value and chosen action\n",
    "            # Complete the R.H.S. of the following 2 lines and uncomment them\n",
    "            q_value = self.forward(state)\n",
    "            action = torch.argmax(q_value).item()\n",
    "            ######## YOUR CODE HERE! ########\n",
    "        else:\n",
    "            action = random.randrange(self.env.action_space.n)\n",
    "        return action\n",
    "\n",
    "def compute_td_loss(model_Q, model_target_Q, batch_size, gamma, replay_buffer, N):\n",
    "    \n",
    "    state, action, reward, next_state, done = replay_buffer.sample(batch_size)\n",
    "\n",
    "    state = Variable(torch.FloatTensor(np.float32(state)))\n",
    "    next_state = Variable(torch.FloatTensor(np.float32(next_state)))\n",
    "    action = Variable(torch.LongTensor(action))\n",
    "    reward = Variable(torch.FloatTensor(reward))\n",
    "    done = Variable(torch.FloatTensor(done))\n",
    "\n",
    "    ######## YOUR CODE HERE! ########\n",
    "    # TODO: Implement the Temporal Difference Loss\n",
    "    \n",
    "    # Compute current Q value, q_func takes only state and output value for every state-action pair\n",
    "    # We choose Q based on action taken.\n",
    "    q_value = model_Q.forward(state)\n",
    "    current_q_value = q_value.gather(1, action.view(-1,1))\n",
    "    # Compute next Q value based on which action gives max Q values\n",
    "    # Detach variable from the current graph since we don't want gradients for next Q to propagated\n",
    "    with torch.no_grad():\n",
    "        next_q_value = model_target_Q.forward(next_state).detach()\n",
    "        target_q_value = reward + (1-done) * gamma * torch.max(next_q_value.detach(),dim=1)[0]\n",
    "        target_q_value = target_q_value.view(-1,1)\n",
    "    \n",
    "    # loss = torch.mean((target_q_val - current_q_value)**2))\n",
    "    loss = F.smooth_l1_loss(current_q_value, target_q_value)\n",
    "    ######## YOUR CODE HERE! ########\n",
    "    return loss\n",
    "\n",
    "\n",
    "class ReplayBuffer(object):\n",
    "    def __init__(self, capacity):\n",
    "        #Returns a new deque object initialized left-to-right\n",
    "        self.buffer = deque(maxlen=capacity)\n",
    "\n",
    "    def push(self, state, action, reward, next_state, done):\n",
    "        # state = np.expand_dims(state, 0)\n",
    "        # next_state = np.expand_dims(next_state, 0)\n",
    "\n",
    "        self.buffer.append((state, action, reward, next_state, done))\n",
    "\n",
    "    def sample(self, batch_size):\n",
    "        ######## YOUR CODE HERE! ########\n",
    "        # TODO: Randomly sampling data with specific batch size from the buffer\n",
    "        # Hint: you may use the python library \"random\".\n",
    "\n",
    "        batch = random.sample(self.buffer, batch_size)\n",
    "        state,action,reward,next_state,done = zip(*batch)\n",
    "\n",
    "        # If you are not familiar with the \"deque\" python library, please google it.\n",
    "        ######## YOUR CODE HERE! ########\n",
    "        return np.array(state), np.array(action), np.array(reward), np.array(next_state), np.array(done)\n",
    "\n",
    "    def __len__(self):\n",
    "        return len(self.buffer)\n"
   ]
  },
  {
   "cell_type": "code",
   "execution_count": 73,
   "metadata": {},
   "outputs": [],
   "source": [
    "class Args:\n",
    "    def __init__(self):\n",
    "        self.seed=1\n",
    "        self.batch_size = 32\n",
    "        self.num_frames = 1000000\n",
    "        self.gamma = 0.99\n",
    "        self.epsilon_start = 1.0\n",
    "        self.epsilon_final = 0.01\n",
    "        self.epsilon_decay = 0.99\n",
    "        self.N = 1\n",
    "        self.optimizer = 'Adam'\n",
    "        self.lr = 3e-5\n",
    "        self.number_of_updates = 10\n",
    "        self.target_update_freq = 100\n",
    "        self.capacity = 100000\n",
    "        self.render = False\n",
    "        self.save_result_path = '../results/DQN/results.npy'\n",
    "        self.save_model_path = '../results/DQN/weights_only.pth'"
   ]
  },
  {
   "cell_type": "code",
   "execution_count": 74,
   "metadata": {},
   "outputs": [],
   "source": [
    "args = Args()"
   ]
  },
  {
   "cell_type": "code",
   "execution_count": 75,
   "metadata": {},
   "outputs": [
    {
     "name": "stdout",
     "output_type": "stream",
     "text": [
      "tensor(1.0930)\n",
      "tensor(1.0930)\n"
     ]
    }
   ],
   "source": [
    "aa=torch.tensor([[ 0.0616, -1.5050, -1.2542,  1.0467, -1.6583, -0.1956],\n",
    "        [ 0.1444, -1.4500, -1.2947,  1.0930, -1.7403, -0.2409],\n",
    "        [ 0.0342, -1.5723, -1.2624,  1.1574, -1.6852, -0.0689],\n",
    "        [ 0.0517, -1.5105, -1.2464,  1.1025, -1.6326, -0.1251],\n",
    "        [ 0.0201, -1.5424, -1.2026,  1.1654, -1.7247, -0.1792],\n",
    "        [ 0.0877, -1.4870, -1.2158,  1.0617, -1.6393, -0.1004],\n",
    "        [ 0.0881, -1.4855, -1.2736,  1.1042, -1.5769, -0.1997],\n",
    "        [ 0.1076, -1.4818, -1.2331,  1.0620, -1.6394, -0.1209],\n",
    "        [ 0.1458, -1.5549, -1.1906,  1.1144, -1.6783, -0.0942],\n",
    "        [ 0.0267, -1.5309, -1.3258,  1.0811, -1.6813, -0.1498],\n",
    "        [ 0.0187, -1.5255, -1.3182,  1.0463, -1.6692, -0.0902],\n",
    "        [ 0.0642, -1.6106, -1.2788,  1.0466, -1.6537, -0.0168],\n",
    "        [-0.0481, -1.5233, -1.2429,  1.0540, -1.6389, -0.1518],\n",
    "        [-0.0229, -1.4506, -1.2753,  0.9652, -1.6470, -0.2397],\n",
    "        [ 0.0108, -1.5544, -1.1406,  1.1781, -1.7532, -0.1468],\n",
    "        [ 0.1174, -1.5528, -1.2626,  1.0589, -1.6256, -0.1757],\n",
    "        [ 0.0499, -1.5252, -1.2493,  1.1104, -1.6591, -0.0693],\n",
    "        [ 0.0906, -1.5743, -1.2251,  1.0825, -1.6204, -0.0840],\n",
    "        [ 0.0260, -1.5498, -1.2999,  1.1594, -1.6374, -0.1158],\n",
    "        [ 0.0567, -1.4924, -1.2527,  1.0692, -1.6544, -0.1253],\n",
    "        [ 0.0356, -1.5186, -1.3110,  1.1103, -1.7097, -0.0847],\n",
    "        [ 0.0463, -1.5214, -1.2331,  1.0992, -1.6376, -0.1251],\n",
    "        [ 0.0372, -1.4996, -1.2329,  1.0936, -1.6099, -0.0969],\n",
    "        [ 0.0567, -1.5007, -1.2477,  1.0955, -1.6199, -0.1252],\n",
    "        [ 0.0213, -1.5079, -1.2459,  1.1022, -1.6472, -0.1064],\n",
    "        [ 0.0600, -1.4948, -1.2267,  1.0692, -1.6599, -0.1107],\n",
    "        [ 0.0256, -1.5184, -1.2491,  1.1132, -1.6322, -0.1291],\n",
    "        [ 0.1561, -1.5188, -1.2421,  1.1181, -1.6393, -0.1787],\n",
    "        [ 0.0355, -1.5439, -1.2369,  1.1085, -1.6272, -0.1101],\n",
    "        [ 0.0417, -1.4993, -1.3280,  1.0897, -1.6234, -0.1404],\n",
    "        [ 0.0097, -1.5227, -1.2437,  1.0888, -1.6143, -0.1501],\n",
    "        [ 0.0409, -1.6244, -1.4683,  1.1526, -1.8225, -0.1008]]) \n",
    "print(max(aa[1]))\n",
    "\n",
    "print(max(aa[1,:]))"
   ]
  },
  {
   "cell_type": "markdown",
   "metadata": {},
   "source": [
    "# run DQN Pong"
   ]
  },
  {
   "cell_type": "markdown",
   "metadata": {},
   "source": [
    "### Wrappers"
   ]
  },
  {
   "cell_type": "code",
   "execution_count": 8,
   "metadata": {},
   "outputs": [],
   "source": [
    "import numpy as np\n",
    "from collections import deque\n",
    "import gym\n",
    "from gym import spaces\n",
    "import cv2\n",
    "cv2.ocl.setUseOpenCL(False)\n",
    "\n",
    "class NoopResetEnv(gym.Wrapper):\n",
    "    def __init__(self, env, noop_max=30):\n",
    "        \"\"\"Sample initial states by taking random number of no-ops on reset.\n",
    "        No-op is assumed to be action 0.\n",
    "        \"\"\"\n",
    "        gym.Wrapper.__init__(self, env)\n",
    "        self.noop_max = noop_max\n",
    "        self.override_num_noops = None\n",
    "        self.noop_action = 0\n",
    "        assert env.unwrapped.get_action_meanings()[0] == 'NOOP'\n",
    "\n",
    "    def reset(self, **kwargs):\n",
    "        \"\"\" Do no-op action for a number of steps in [1, noop_max].\"\"\"\n",
    "        self.env.reset(**kwargs)\n",
    "        if self.override_num_noops is not None:\n",
    "            noops = self.override_num_noops\n",
    "        else:\n",
    "            noops = self.unwrapped.np_random.randint(1, self.noop_max + 1) #pylint: disable=E1101\n",
    "        assert noops > 0\n",
    "        obs = None\n",
    "        for _ in range(noops):\n",
    "            obs, _, done, _ = self.env.step(self.noop_action)\n",
    "            if done:\n",
    "                obs = self.env.reset(**kwargs)\n",
    "        return obs\n",
    "\n",
    "    def step(self, ac):\n",
    "        return self.env.step(ac)\n",
    "\n",
    "class FireResetEnv(gym.Wrapper):\n",
    "    def __init__(self, env):\n",
    "        \"\"\"Take action on reset for environments that are fixed until firing.\"\"\"\n",
    "        gym.Wrapper.__init__(self, env)\n",
    "        assert env.unwrapped.get_action_meanings()[1] == 'FIRE'\n",
    "        assert len(env.unwrapped.get_action_meanings()) >= 3\n",
    "\n",
    "    def reset(self, **kwargs):\n",
    "        self.env.reset(**kwargs)\n",
    "        obs, _, done, _ = self.env.step(1)\n",
    "        if done:\n",
    "            self.env.reset(**kwargs)\n",
    "        obs, _, done, _ = self.env.step(2)\n",
    "        if done:\n",
    "            self.env.reset(**kwargs)\n",
    "        return obs\n",
    "\n",
    "    def step(self, ac):\n",
    "        return self.env.step(ac)\n",
    "\n",
    "class EpisodicLifeEnv(gym.Wrapper):\n",
    "    def __init__(self, env):\n",
    "        \"\"\"Make end-of-life == end-of-episode, but only reset on true game over.\n",
    "        Done by DeepMind for the DQN and co. since it helps value estimation.\n",
    "        \"\"\"\n",
    "        gym.Wrapper.__init__(self, env)\n",
    "        self.lives = 0\n",
    "        self.was_real_done  = True\n",
    "\n",
    "    def step(self, action):\n",
    "        obs, reward, done, info = self.env.step(action)\n",
    "        self.was_real_done = done\n",
    "        # check current lives, make loss of life terminal,\n",
    "        # then update lives to handle bonus lives\n",
    "        lives = self.env.unwrapped.ale.lives()\n",
    "        if lives < self.lives and lives > 0:\n",
    "            # for Qbert sometimes we stay in lives == 0 condtion for a few frames\n",
    "            # so its important to keep lives > 0, so that we only reset once\n",
    "            # the environment advertises done.\n",
    "            done = True\n",
    "        self.lives = lives\n",
    "        return obs, reward, done, info\n",
    "\n",
    "    def reset(self, **kwargs):\n",
    "        \"\"\"Reset only when lives are exhausted.\n",
    "        This way all states are still reachable even though lives are episodic,\n",
    "        and the learner need not know about any of this behind-the-scenes.\n",
    "        \"\"\"\n",
    "        if self.was_real_done:\n",
    "            obs = self.env.reset(**kwargs)\n",
    "        else:\n",
    "            # no-op step to advance from terminal/lost life state\n",
    "            obs, _, _, _ = self.env.step(0)\n",
    "        self.lives = self.env.unwrapped.ale.lives()\n",
    "        return obs\n",
    "\n",
    "class MaxAndSkipEnv(gym.Wrapper):\n",
    "    def __init__(self, env, skip=4):\n",
    "        \"\"\"Return only every `skip`-th frame\"\"\"\n",
    "        gym.Wrapper.__init__(self, env)\n",
    "        # most recent raw observations (for max pooling across time steps)\n",
    "        self._obs_buffer = np.zeros((2,)+env.observation_space.shape, dtype=np.uint8)\n",
    "        self._skip       = skip\n",
    "\n",
    "    def reset(self):\n",
    "        return self.env.reset()\n",
    "\n",
    "    def step(self, action):\n",
    "        \"\"\"Repeat action, sum reward, and max over last observations.\"\"\"\n",
    "        total_reward = 0.0\n",
    "        done = None\n",
    "        for i in range(self._skip):\n",
    "            obs, reward, done, info = self.env.step(action)\n",
    "            if i == self._skip - 2: self._obs_buffer[0] = obs\n",
    "            if i == self._skip - 1: self._obs_buffer[1] = obs\n",
    "            total_reward += reward\n",
    "            if done:\n",
    "                break\n",
    "        # Note that the observation on the done=True frame\n",
    "        # doesn't matter\n",
    "        max_frame = self._obs_buffer.max(axis=0)\n",
    "\n",
    "        return max_frame, total_reward, done, info\n",
    "\n",
    "    def reset(self, **kwargs):\n",
    "        return self.env.reset(**kwargs)\n",
    "\n",
    "class ClipRewardEnv(gym.RewardWrapper):\n",
    "    def __init__(self, env):\n",
    "        gym.RewardWrapper.__init__(self, env)\n",
    "\n",
    "    def reward(self, reward):\n",
    "        \"\"\"Bin reward to {+1, 0, -1} by its sign.\"\"\"\n",
    "        return np.sign(reward)\n",
    "\n",
    "class WarpFrame(gym.ObservationWrapper):\n",
    "    def __init__(self, env):\n",
    "        \"\"\"Warp frames to 84x84 as done in the Nature paper and later work.\"\"\"\n",
    "        gym.ObservationWrapper.__init__(self, env)\n",
    "        self.width = 84\n",
    "        self.height = 84\n",
    "        self.observation_space = spaces.Box(low=0, high=255,\n",
    "            shape=(self.height, self.width, 1), dtype=np.uint8)\n",
    "\n",
    "    def observation(self, frame):\n",
    "        frame = cv2.cvtColor(frame, cv2.COLOR_RGB2GRAY)\n",
    "        frame = cv2.resize(frame, (self.width, self.height), interpolation=cv2.INTER_AREA)\n",
    "        return frame[:, :, None]\n",
    "\n",
    "class FrameStack(gym.Wrapper):\n",
    "    def __init__(self, env, k):\n",
    "        \"\"\"Stack k last frames.\n",
    "        Returns lazy array, which is much more memory efficient.\n",
    "        See Also\n",
    "        --------\n",
    "        baselines.common.atari_wrappers.LazyFrames\n",
    "        \"\"\"\n",
    "        gym.Wrapper.__init__(self, env)\n",
    "        self.k = k\n",
    "        self.frames = deque([], maxlen=k)\n",
    "        shp = env.observation_space.shape\n",
    "        self.observation_space = spaces.Box(low=0, high=255, shape=(shp[0], shp[1], shp[2] * k), dtype=np.uint8)\n",
    "\n",
    "    def reset(self):\n",
    "        ob = self.env.reset()\n",
    "        for _ in range(self.k):\n",
    "            self.frames.append(ob)\n",
    "        return self._get_ob()\n",
    "\n",
    "    def step(self, action):\n",
    "        ob, reward, done, info = self.env.step(action)\n",
    "        self.frames.append(ob)\n",
    "        return self._get_ob(), reward, done, info\n",
    "\n",
    "    def _get_ob(self):\n",
    "        assert len(self.frames) == self.k\n",
    "        return LazyFrames(list(self.frames))\n",
    "\n",
    "class ScaledFloatFrame(gym.ObservationWrapper):\n",
    "    def __init__(self, env):\n",
    "        gym.ObservationWrapper.__init__(self, env)\n",
    "\n",
    "    def observation(self, observation):\n",
    "        # careful! This undoes the memory optimization, use\n",
    "        # with smaller replay buffers only.\n",
    "        return np.array(observation).astype(np.float32) / 255.0\n",
    "\n",
    "class LazyFrames(object):\n",
    "    def __init__(self, frames):\n",
    "        \"\"\"This object ensures that common frames between the observations are only stored once.\n",
    "        It exists purely to optimize memory usage which can be huge for DQN's 1M frames replay\n",
    "        buffers.\n",
    "        This object should only be converted to numpy array before being passed to the model.\n",
    "        You'd not believe how complex the previous solution was.\"\"\"\n",
    "        self._frames = frames\n",
    "        self._out = None\n",
    "\n",
    "    def _force(self):\n",
    "        if self._out is None:\n",
    "            self._out = np.concatenate(self._frames, axis=2)\n",
    "            self._frames = None\n",
    "        return self._out\n",
    "\n",
    "    def __array__(self, dtype=None):\n",
    "        out = self._force()\n",
    "        if dtype is not None:\n",
    "            out = out.astype(dtype)\n",
    "        return out\n",
    "\n",
    "    def __len__(self):\n",
    "        return len(self._force())\n",
    "\n",
    "    def __getitem__(self, i):\n",
    "        return self._force()[i]\n",
    "\n",
    "def make_atari(env_id):\n",
    "    env = gym.make(env_id)\n",
    "    assert 'NoFrameskip' in env.spec.id\n",
    "    env = NoopResetEnv(env, noop_max=30)\n",
    "    env = MaxAndSkipEnv(env, skip=4)\n",
    "    return env\n",
    "\n",
    "def wrap_deepmind(env, episode_life=True, clip_rewards=True, frame_stack=False, scale=False):\n",
    "    \"\"\"Configure environment for DeepMind-style Atari.\n",
    "    \"\"\"\n",
    "    if episode_life:\n",
    "        env = EpisodicLifeEnv(env)\n",
    "    if 'FIRE' in env.unwrapped.get_action_meanings():\n",
    "        env = FireResetEnv(env)\n",
    "    env = WarpFrame(env)\n",
    "    if scale:\n",
    "        env = ScaledFloatFrame(env)\n",
    "    if clip_rewards:\n",
    "        env = ClipRewardEnv(env)\n",
    "    if frame_stack:\n",
    "        env = FrameStack(env, 4)\n",
    "    return env\n",
    "\n",
    "\n",
    "\n",
    "class ImageToPyTorch(gym.ObservationWrapper):\n",
    "    \"\"\"\n",
    "    Image shape to num_channels x weight x height\n",
    "    \"\"\"\n",
    "    def __init__(self, env):\n",
    "        super(ImageToPyTorch, self).__init__(env)\n",
    "        old_shape = self.observation_space.shape\n",
    "        self.observation_space = gym.spaces.Box(low=0.0, high=1.0, shape=(old_shape[-1], old_shape[0], old_shape[1]), dtype=np.uint8)\n",
    "\n",
    "    def observation(self, observation):\n",
    "        return np.swapaxes(observation, 2, 0)\n",
    "    \n",
    "\n",
    "def wrap_pytorch(env):\n",
    "    return ImageToPyTorch(env)"
   ]
  },
  {
   "cell_type": "code",
   "execution_count": 9,
   "metadata": {},
   "outputs": [],
   "source": [
    "# from Wrapper.layers import *\n",
    "# from Wrapper.wrappers import make_atari, wrap_deepmind, wrap_pytorch\n",
    "import math, random\n",
    "import gym\n",
    "import numpy as np\n",
    "import matplotlib.pyplot as plt\n",
    "import torch\n",
    "import torch.nn as nn\n",
    "import torch.optim as optim\n",
    "import torch.autograd as autograd \n",
    "import torch.nn.functional as F\n",
    "USE_CUDA = torch.cuda.is_available()\n",
    "# from dqn import QLearner, compute_td_loss, ReplayBuffer"
   ]
  },
  {
   "cell_type": "code",
   "execution_count": 10,
   "metadata": {},
   "outputs": [],
   "source": [
    "env_id = \"PongNoFrameskip-v4\"\n",
    "env = make_atari(env_id)\n",
    "env = wrap_deepmind(env, frame_stack=False)\n",
    "env = wrap_pytorch(env)"
   ]
  },
  {
   "cell_type": "code",
   "execution_count": 11,
   "metadata": {},
   "outputs": [
    {
     "data": {
      "text/plain": [
       "(1, 84, 84)"
      ]
     },
     "execution_count": 11,
     "metadata": {},
     "output_type": "execute_result"
    }
   ],
   "source": [
    "state = env.reset()\n",
    "(state.shape)"
   ]
  },
  {
   "cell_type": "code",
   "execution_count": 12,
   "metadata": {},
   "outputs": [],
   "source": [
    "# plot observation of env"
   ]
  },
  {
   "cell_type": "code",
   "execution_count": 13,
   "metadata": {},
   "outputs": [],
   "source": [
    "# num_frames = 1000000\n",
    "# batch_size = 32\n",
    "# gamma = 0.99\n",
    "    \n",
    "# replay_initial = 10000\n",
    "# replay_buffer = ReplayBuffer(100000)\n",
    "# model = QLearner(env, num_frames, batch_size, gamma, replay_buffer)\n",
    "# optimizer = optim.Adam(model.parameters(), lr=0.00001)\n",
    "# if USE_CUDA:\n",
    "#     model = model.cuda()\n",
    "\n",
    "# epsilon_start = 1.0\n",
    "# epsilon_final = 0.01\n",
    "# epsilon_decay = 30000\n",
    "# epsilon_by_frame = lambda frame_idx: epsilon_final + (epsilon_start - epsilon_final) * math.exp(-1. * frame_idx / epsilon_decay)\n",
    "\n",
    "# losses = []\n",
    "# all_rewards = []\n",
    "# episode_reward = 0\n",
    "\n",
    "# state = env.reset()"
   ]
  },
  {
   "cell_type": "markdown",
   "metadata": {},
   "source": [
    "some tinkering"
   ]
  },
  {
   "cell_type": "code",
   "execution_count": 14,
   "metadata": {},
   "outputs": [
    {
     "name": "stdout",
     "output_type": "stream",
     "text": [
      "tensor([[0.5741, 0.2196, 0.0071, 0.1911, 0.6192]])\n",
      "tensor([[3.2959e-01, 4.8216e-02, 5.0539e-05, 3.6508e-02, 3.8341e-01]])\n"
     ]
    }
   ],
   "source": [
    "a = torch.rand(1,5)\n",
    "print(a)\n",
    "print(a**2)"
   ]
  },
  {
   "cell_type": "code",
   "execution_count": 34,
   "metadata": {},
   "outputs": [],
   "source": [
    "num_frames = 10\n",
    "batch_size = 3\n",
    "gamma = 0.99\n",
    "\n",
    "epsilon_start = 1.0\n",
    "epsilon_final = 0.01\n",
    "epsilon_decay = 30000\n",
    "epsilon_by_frame = lambda frame_idx: epsilon_final + (epsilon_start - epsilon_final) * math.exp(-1. * frame_idx / epsilon_decay)\n",
    "\n",
    "replay_buffer = ReplayBuffer(100)\n",
    "# model = QLearner(env, num_frames, batch_size, gamma, replay_buffer)\n",
    "\n",
    "state = env.reset()\n",
    "\n",
    "\n",
    "# Initialize target q function and q function\n",
    "model_Q = QLearner(env, args, replay_buffer)\n",
    "model_target_Q = QLearner(env, args, replay_buffer)\n",
    "\n",
    "if USE_CUDA:\n",
    "        model_Q = model_Q.cuda()\n",
    "        model_target_Q = model_target_Q.cuda()\n",
    "        \n",
    "for frame_idx in range(100):\n",
    "        epsilon = epsilon_by_frame(frame_idx)\n",
    "        action = model_Q.act(state, epsilon)\n",
    "        next_state, reward, done, _ = env.step(action)\n",
    "        replay_buffer.push(state, action, reward, next_state, done)\n",
    "\n"
   ]
  },
  {
   "cell_type": "code",
   "execution_count": 100,
   "metadata": {},
   "outputs": [],
   "source": [
    "# if USE_CUDA:\n",
    "#     action = action.cuda()\n",
    "#     reward = reward.cuda()\n",
    "# ######## YOUR CODE HERE! ########\n",
    "# # TODO: Implement the Temporal Difference Loss\n",
    "\n",
    "# # Compute current Q value, q_func takes only state and output value for every state-action pair\n",
    "# # We choose Q based on action taken.\n",
    "# current_q_value = model_Q.forward(state)\n",
    "# # Compute next Q value based on which action gives max Q values\n",
    "# # Detach variable from the current graph since we don't want gradients for next Q to propagated\n",
    "# with torch.no_grad():\n",
    "#     next_q_value = model_target_Q.forward(next_state).detach()\n",
    "#     target_q_val = reward + ( (gamma**args.N)* (np.max(next_q_value.detach().cpu().numpy())) * (1-done))\n",
    "\n",
    "# print(current_q_value.shape)\n",
    "# print(target_q_val.shape)\n",
    "# # Compute Bellman error\n",
    "# loss = torch.mean((target_q_val - current_q_value)**2)\n",
    "\n",
    "# # loss = torch.nn.SmoothL1Loss(target_q_val, current_q_value)\n",
    "\n",
    "# # Not sure what this is about\n",
    "# # # clip the bellman error between [-1 , 1]\n",
    "# # bellman_error = loss\n",
    "# # clipped_bellman_error = bellman_error.clamp(-1, 1)\n",
    "# # # Note: clipped_bellman_delta * -1 will be right gradient\n",
    "# # d_error = clipped_bellman_error * -1.0"
   ]
  },
  {
   "cell_type": "code",
   "execution_count": 20,
   "metadata": {},
   "outputs": [],
   "source": [
    "# current_q = model_Q.forward(state)\n",
    "# current_q_value = current_q.gather(1, action.view(-1,1))\n",
    "\n",
    "# with torch.no_grad():\n",
    "#     next_q_value = model_target_Q.forward(next_state).detach()\n",
    "#     target_q_val = reward + ( (gamma**args.N)* (np.max(next_q_value.detach().cpu().numpy())) * (1-done))\n",
    "# target_q_val = target_q_val.view(-1,1)\n",
    "# print(current_q.shape)\n",
    "# print(current_q_value.shape)\n",
    "# print(target_q_val.shape)\n",
    "# # loss = torch.mean((target_q_val - current_q_value)**2)\n",
    "# loss = torch.nn.SmoothL1Loss(target_q_val, current_q_value)"
   ]
  },
  {
   "cell_type": "markdown",
   "metadata": {},
   "source": [
    "# deep Q run with default params"
   ]
  },
  {
   "cell_type": "code",
   "execution_count": 77,
   "metadata": {},
   "outputs": [],
   "source": [
    "num_frames = 10000\n",
    "batch_size = 32\n",
    "gamma = 0.99\n",
    "\n",
    "args.number_of_updates = 10\n",
    "args.target_update_freq = 100\n",
    "    \n",
    "replay_initial = 1000\n",
    "replay_buffer = ReplayBuffer(10000)\n",
    "\n",
    "model = QLearner(env, args, replay_buffer)\n",
    "optimizer = optim.Adam(model.parameters(), lr=0.00001)\n",
    "\n",
    "\n",
    "if USE_CUDA:\n",
    "    model = model.cuda()\n",
    "\n",
    "epsilon_start = 1.0\n",
    "epsilon_final = 0.01\n",
    "epsilon_decay = 30000\n",
    "epsilon_by_frame = lambda frame_idx: epsilon_final + (epsilon_start - epsilon_final) * math.exp(-1. * frame_idx / epsilon_decay)\n",
    "\n",
    "losses = []\n",
    "all_rewards = []\n",
    "episode_reward = 0\n",
    "\n",
    "state = env.reset()"
   ]
  },
  {
   "cell_type": "code",
   "execution_count": 95,
   "metadata": {},
   "outputs": [
    {
     "name": "stdout",
     "output_type": "stream",
     "text": [
      "yes\n"
     ]
    }
   ],
   "source": [
    "a=1; b=2;\n",
    "(print('yes') if a!=b else print('no'))"
   ]
  },
  {
   "cell_type": "code",
   "execution_count": 91,
   "metadata": {},
   "outputs": [
    {
     "name": "stdout",
     "output_type": "stream",
     "text": [
      "[0.003]\n",
      "[0.0018150182014126084]\n",
      "[0.001098097023819687]\n",
      "[0.0006643553617165826]\n",
      "[0.00040193902457388495]\n",
      "[0.00024317554848654385]\n",
      "[0.00014712268221385715]\n",
      "[8.901011535293128e-05]\n",
      "[5.3851659825135424e-05]\n",
      "[3.258058091963366e-05]\n"
     ]
    }
   ],
   "source": [
    "\n",
    "# # Where to add a new import\n",
    "from torch.optim.lr_scheduler import StepLR, ReduceLROnPlateau\n",
    "args.initial_lr = 0.003\n",
    "args.step_size = 2#500000\n",
    "\n",
    "\n",
    "lrs = []\n",
    "\n",
    "optimizer = optim.Adam(model.parameters(), lr=args.initial_lr)\n",
    "\n",
    "scheduler = StepLR(optimizer, step_size=args.step_size, gamma=args.gamma)\n",
    "# scheduler = ReduceLROnPlateau(optimizer, mode='max', factor=0.1, patience=10, verbose=True)\n",
    "\n",
    "for epoch in range(1000):\n",
    "    scheduler.step()\n",
    "    if epoch % 100 == 0:\n",
    "\n",
    "        print(scheduler.get_lr())\n",
    "        \n",
    "#     optimizer.zero_grad()\n",
    "#     # action = model \n",
    "#     # loss = \n",
    "#     loss.backward()\n",
    "#     optimizer.step()\n",
    "    \n",
    "#     scheduler.step()\n",
    "#     scheduler.step(mean_reward2)\n",
    "\n",
    "#     lrs.append(scheduler.get_lr())\n"
   ]
  },
  {
   "cell_type": "code",
   "execution_count": null,
   "metadata": {},
   "outputs": [],
   "source": []
  },
  {
   "cell_type": "code",
   "execution_count": 82,
   "metadata": {},
   "outputs": [
    {
     "data": {
      "text/plain": [
       "<torch.optim.lr_scheduler.StepLR at 0x7f2eaab7a910>"
      ]
     },
     "execution_count": 82,
     "metadata": {},
     "output_type": "execute_result"
    }
   ],
   "source": [
    "scheduler"
   ]
  },
  {
   "cell_type": "code",
   "execution_count": 80,
   "metadata": {},
   "outputs": [
    {
     "name": "stdout",
     "output_type": "stream",
     "text": [
      "done\n",
      "Frame: 1000 Loss: 0.039267175 Total Rewards: -8.0 Average Rewards over all frames: -8.0 Last-10 average reward: -8.0 Best mean reward of last-10: -8.0 Last-100 average reward: -8.0 Best mean reward of last-100: -8.0 Time: 0.015325784683227539 Total time so far: 46.60094404220581\n",
      "done\n",
      "done\n",
      "Frame: 2000 Loss: 0.03792077 Total Rewards: -21.0 Average Rewards over all frames: -16.666666666666668 Last-10 average reward: -16.666666666666668 Best mean reward of last-10: -8.0 Last-100 average reward: -16.666666666666668 Best mean reward of last-100: -8.0 Time: 0.020006179809570312 Total time so far: 92.90680456161499\n",
      "done\n",
      "Frame: 3000 Loss: 0.037932646 Total Rewards: -21.0 Average Rewards over all frames: -17.75 Last-10 average reward: -17.75 Best mean reward of last-10: -8.0 Last-100 average reward: -17.75 Best mean reward of last-100: -8.0 Time: 0.016968965530395508 Total time so far: 139.43788266181946\n",
      "done\n"
     ]
    },
    {
     "ename": "KeyboardInterrupt",
     "evalue": "",
     "output_type": "error",
     "traceback": [
      "\u001b[0;31m---------------------------------------------------------------------------\u001b[0m",
      "\u001b[0;31mKeyboardInterrupt\u001b[0m                         Traceback (most recent call last)",
      "\u001b[0;32m<ipython-input-80-a71a1d0926bd>\u001b[0m in \u001b[0;36m<module>\u001b[0;34m\u001b[0m\n\u001b[1;32m     38\u001b[0m     \u001b[0;32mif\u001b[0m \u001b[0mlen\u001b[0m\u001b[0;34m(\u001b[0m\u001b[0mreplay_buffer\u001b[0m\u001b[0;34m)\u001b[0m \u001b[0;34m>\u001b[0m \u001b[0mreplay_initial\u001b[0m\u001b[0;34m:\u001b[0m\u001b[0;34m\u001b[0m\u001b[0;34m\u001b[0m\u001b[0m\n\u001b[1;32m     39\u001b[0m         \u001b[0;32mfor\u001b[0m \u001b[0mnou\u001b[0m \u001b[0;32min\u001b[0m \u001b[0mrange\u001b[0m\u001b[0;34m(\u001b[0m\u001b[0margs\u001b[0m\u001b[0;34m.\u001b[0m\u001b[0mnumber_of_updates\u001b[0m\u001b[0;34m)\u001b[0m\u001b[0;34m:\u001b[0m\u001b[0;34m\u001b[0m\u001b[0;34m\u001b[0m\u001b[0m\n\u001b[0;32m---> 40\u001b[0;31m             \u001b[0mloss\u001b[0m \u001b[0;34m=\u001b[0m \u001b[0mcompute_td_loss\u001b[0m\u001b[0;34m(\u001b[0m\u001b[0mmodel_Q\u001b[0m\u001b[0;34m,\u001b[0m \u001b[0mmodel_target_Q\u001b[0m\u001b[0;34m,\u001b[0m \u001b[0margs\u001b[0m\u001b[0;34m.\u001b[0m\u001b[0mbatch_size\u001b[0m\u001b[0;34m,\u001b[0m \u001b[0margs\u001b[0m\u001b[0;34m.\u001b[0m\u001b[0mgamma\u001b[0m\u001b[0;34m,\u001b[0m \u001b[0mreplay_buffer\u001b[0m\u001b[0;34m,\u001b[0m \u001b[0margs\u001b[0m\u001b[0;34m.\u001b[0m\u001b[0mN\u001b[0m\u001b[0;34m)\u001b[0m\u001b[0;34m\u001b[0m\u001b[0;34m\u001b[0m\u001b[0m\n\u001b[0m\u001b[1;32m     41\u001b[0m             \u001b[0moptimizer\u001b[0m\u001b[0;34m.\u001b[0m\u001b[0mzero_grad\u001b[0m\u001b[0;34m(\u001b[0m\u001b[0;34m)\u001b[0m\u001b[0;34m\u001b[0m\u001b[0;34m\u001b[0m\u001b[0m\n\u001b[1;32m     42\u001b[0m             \u001b[0mloss\u001b[0m\u001b[0;34m.\u001b[0m\u001b[0mbackward\u001b[0m\u001b[0;34m(\u001b[0m\u001b[0;34m)\u001b[0m\u001b[0;34m\u001b[0m\u001b[0;34m\u001b[0m\u001b[0m\n",
      "\u001b[0;32m<ipython-input-72-40df6039d47a>\u001b[0m in \u001b[0;36mcompute_td_loss\u001b[0;34m(model_Q, model_target_Q, batch_size, gamma, replay_buffer, N)\u001b[0m\n\u001b[1;32m    105\u001b[0m     \u001b[0;31m# Detach variable from the current graph since we don't want gradients for next Q to propagated\u001b[0m\u001b[0;34m\u001b[0m\u001b[0;34m\u001b[0m\u001b[0;34m\u001b[0m\u001b[0m\n\u001b[1;32m    106\u001b[0m     \u001b[0;32mwith\u001b[0m \u001b[0mtorch\u001b[0m\u001b[0;34m.\u001b[0m\u001b[0mno_grad\u001b[0m\u001b[0;34m(\u001b[0m\u001b[0;34m)\u001b[0m\u001b[0;34m:\u001b[0m\u001b[0;34m\u001b[0m\u001b[0;34m\u001b[0m\u001b[0m\n\u001b[0;32m--> 107\u001b[0;31m         \u001b[0mnext_q_value\u001b[0m \u001b[0;34m=\u001b[0m \u001b[0mmodel_target_Q\u001b[0m\u001b[0;34m.\u001b[0m\u001b[0mforward\u001b[0m\u001b[0;34m(\u001b[0m\u001b[0mnext_state\u001b[0m\u001b[0;34m)\u001b[0m\u001b[0;34m.\u001b[0m\u001b[0mdetach\u001b[0m\u001b[0;34m(\u001b[0m\u001b[0;34m)\u001b[0m\u001b[0;34m\u001b[0m\u001b[0;34m\u001b[0m\u001b[0m\n\u001b[0m\u001b[1;32m    108\u001b[0m         \u001b[0mtarget_q_value\u001b[0m \u001b[0;34m=\u001b[0m \u001b[0mreward\u001b[0m \u001b[0;34m+\u001b[0m \u001b[0;34m(\u001b[0m\u001b[0;36m1\u001b[0m\u001b[0;34m-\u001b[0m\u001b[0mdone\u001b[0m\u001b[0;34m)\u001b[0m \u001b[0;34m*\u001b[0m \u001b[0mgamma\u001b[0m \u001b[0;34m*\u001b[0m \u001b[0mtorch\u001b[0m\u001b[0;34m.\u001b[0m\u001b[0mmax\u001b[0m\u001b[0;34m(\u001b[0m\u001b[0mnext_q_value\u001b[0m\u001b[0;34m.\u001b[0m\u001b[0mdetach\u001b[0m\u001b[0;34m(\u001b[0m\u001b[0;34m)\u001b[0m\u001b[0;34m,\u001b[0m\u001b[0mdim\u001b[0m\u001b[0;34m=\u001b[0m\u001b[0;36m1\u001b[0m\u001b[0;34m)\u001b[0m\u001b[0;34m[\u001b[0m\u001b[0;36m0\u001b[0m\u001b[0;34m]\u001b[0m\u001b[0;34m\u001b[0m\u001b[0;34m\u001b[0m\u001b[0m\n\u001b[1;32m    109\u001b[0m         \u001b[0mtarget_q_value\u001b[0m \u001b[0;34m=\u001b[0m \u001b[0mtarget_q_value\u001b[0m\u001b[0;34m.\u001b[0m\u001b[0mview\u001b[0m\u001b[0;34m(\u001b[0m\u001b[0;34m-\u001b[0m\u001b[0;36m1\u001b[0m\u001b[0;34m,\u001b[0m\u001b[0;36m1\u001b[0m\u001b[0;34m)\u001b[0m\u001b[0;34m\u001b[0m\u001b[0;34m\u001b[0m\u001b[0m\n",
      "\u001b[0;32m<ipython-input-32-16f7fcdbbbaf>\u001b[0m in \u001b[0;36mforward\u001b[0;34m(self, x)\u001b[0m\n\u001b[1;32m     61\u001b[0m \u001b[0;34m\u001b[0m\u001b[0m\n\u001b[1;32m     62\u001b[0m     \u001b[0;32mdef\u001b[0m \u001b[0mforward\u001b[0m\u001b[0;34m(\u001b[0m\u001b[0mself\u001b[0m\u001b[0;34m,\u001b[0m \u001b[0mx\u001b[0m\u001b[0;34m)\u001b[0m\u001b[0;34m:\u001b[0m\u001b[0;34m\u001b[0m\u001b[0;34m\u001b[0m\u001b[0m\n\u001b[0;32m---> 63\u001b[0;31m         \u001b[0mx\u001b[0m \u001b[0;34m=\u001b[0m \u001b[0mself\u001b[0m\u001b[0;34m.\u001b[0m\u001b[0mfeatures\u001b[0m\u001b[0;34m(\u001b[0m\u001b[0mx\u001b[0m\u001b[0;34m)\u001b[0m\u001b[0;34m\u001b[0m\u001b[0;34m\u001b[0m\u001b[0m\n\u001b[0m\u001b[1;32m     64\u001b[0m         \u001b[0mx\u001b[0m \u001b[0;34m=\u001b[0m \u001b[0mx\u001b[0m\u001b[0;34m.\u001b[0m\u001b[0mview\u001b[0m\u001b[0;34m(\u001b[0m\u001b[0mx\u001b[0m\u001b[0;34m.\u001b[0m\u001b[0msize\u001b[0m\u001b[0;34m(\u001b[0m\u001b[0;36m0\u001b[0m\u001b[0;34m)\u001b[0m\u001b[0;34m,\u001b[0m \u001b[0;34m-\u001b[0m\u001b[0;36m1\u001b[0m\u001b[0;34m)\u001b[0m\u001b[0;34m\u001b[0m\u001b[0;34m\u001b[0m\u001b[0m\n\u001b[1;32m     65\u001b[0m         \u001b[0mx\u001b[0m \u001b[0;34m=\u001b[0m \u001b[0mself\u001b[0m\u001b[0;34m.\u001b[0m\u001b[0mfc\u001b[0m\u001b[0;34m(\u001b[0m\u001b[0mx\u001b[0m\u001b[0;34m)\u001b[0m\u001b[0;34m\u001b[0m\u001b[0;34m\u001b[0m\u001b[0m\n",
      "\u001b[0;32m~/.conda/envs/RLPongDQN/lib/python3.8/site-packages/torch/nn/modules/module.py\u001b[0m in \u001b[0;36m__call__\u001b[0;34m(self, *input, **kwargs)\u001b[0m\n\u001b[1;32m    548\u001b[0m             \u001b[0mresult\u001b[0m \u001b[0;34m=\u001b[0m \u001b[0mself\u001b[0m\u001b[0;34m.\u001b[0m\u001b[0m_slow_forward\u001b[0m\u001b[0;34m(\u001b[0m\u001b[0;34m*\u001b[0m\u001b[0minput\u001b[0m\u001b[0;34m,\u001b[0m \u001b[0;34m**\u001b[0m\u001b[0mkwargs\u001b[0m\u001b[0;34m)\u001b[0m\u001b[0;34m\u001b[0m\u001b[0;34m\u001b[0m\u001b[0m\n\u001b[1;32m    549\u001b[0m         \u001b[0;32melse\u001b[0m\u001b[0;34m:\u001b[0m\u001b[0;34m\u001b[0m\u001b[0;34m\u001b[0m\u001b[0m\n\u001b[0;32m--> 550\u001b[0;31m             \u001b[0mresult\u001b[0m \u001b[0;34m=\u001b[0m \u001b[0mself\u001b[0m\u001b[0;34m.\u001b[0m\u001b[0mforward\u001b[0m\u001b[0;34m(\u001b[0m\u001b[0;34m*\u001b[0m\u001b[0minput\u001b[0m\u001b[0;34m,\u001b[0m \u001b[0;34m**\u001b[0m\u001b[0mkwargs\u001b[0m\u001b[0;34m)\u001b[0m\u001b[0;34m\u001b[0m\u001b[0;34m\u001b[0m\u001b[0m\n\u001b[0m\u001b[1;32m    551\u001b[0m         \u001b[0;32mfor\u001b[0m \u001b[0mhook\u001b[0m \u001b[0;32min\u001b[0m \u001b[0mself\u001b[0m\u001b[0;34m.\u001b[0m\u001b[0m_forward_hooks\u001b[0m\u001b[0;34m.\u001b[0m\u001b[0mvalues\u001b[0m\u001b[0;34m(\u001b[0m\u001b[0;34m)\u001b[0m\u001b[0;34m:\u001b[0m\u001b[0;34m\u001b[0m\u001b[0;34m\u001b[0m\u001b[0m\n\u001b[1;32m    552\u001b[0m             \u001b[0mhook_result\u001b[0m \u001b[0;34m=\u001b[0m \u001b[0mhook\u001b[0m\u001b[0;34m(\u001b[0m\u001b[0mself\u001b[0m\u001b[0;34m,\u001b[0m \u001b[0minput\u001b[0m\u001b[0;34m,\u001b[0m \u001b[0mresult\u001b[0m\u001b[0;34m)\u001b[0m\u001b[0;34m\u001b[0m\u001b[0;34m\u001b[0m\u001b[0m\n",
      "\u001b[0;32m~/.conda/envs/RLPongDQN/lib/python3.8/site-packages/torch/nn/modules/container.py\u001b[0m in \u001b[0;36mforward\u001b[0;34m(self, input)\u001b[0m\n\u001b[1;32m     98\u001b[0m     \u001b[0;32mdef\u001b[0m \u001b[0mforward\u001b[0m\u001b[0;34m(\u001b[0m\u001b[0mself\u001b[0m\u001b[0;34m,\u001b[0m \u001b[0minput\u001b[0m\u001b[0;34m)\u001b[0m\u001b[0;34m:\u001b[0m\u001b[0;34m\u001b[0m\u001b[0;34m\u001b[0m\u001b[0m\n\u001b[1;32m     99\u001b[0m         \u001b[0;32mfor\u001b[0m \u001b[0mmodule\u001b[0m \u001b[0;32min\u001b[0m \u001b[0mself\u001b[0m\u001b[0;34m:\u001b[0m\u001b[0;34m\u001b[0m\u001b[0;34m\u001b[0m\u001b[0m\n\u001b[0;32m--> 100\u001b[0;31m             \u001b[0minput\u001b[0m \u001b[0;34m=\u001b[0m \u001b[0mmodule\u001b[0m\u001b[0;34m(\u001b[0m\u001b[0minput\u001b[0m\u001b[0;34m)\u001b[0m\u001b[0;34m\u001b[0m\u001b[0;34m\u001b[0m\u001b[0m\n\u001b[0m\u001b[1;32m    101\u001b[0m         \u001b[0;32mreturn\u001b[0m \u001b[0minput\u001b[0m\u001b[0;34m\u001b[0m\u001b[0;34m\u001b[0m\u001b[0m\n\u001b[1;32m    102\u001b[0m \u001b[0;34m\u001b[0m\u001b[0m\n",
      "\u001b[0;32m~/.conda/envs/RLPongDQN/lib/python3.8/site-packages/torch/nn/modules/module.py\u001b[0m in \u001b[0;36m__call__\u001b[0;34m(self, *input, **kwargs)\u001b[0m\n\u001b[1;32m    548\u001b[0m             \u001b[0mresult\u001b[0m \u001b[0;34m=\u001b[0m \u001b[0mself\u001b[0m\u001b[0;34m.\u001b[0m\u001b[0m_slow_forward\u001b[0m\u001b[0;34m(\u001b[0m\u001b[0;34m*\u001b[0m\u001b[0minput\u001b[0m\u001b[0;34m,\u001b[0m \u001b[0;34m**\u001b[0m\u001b[0mkwargs\u001b[0m\u001b[0;34m)\u001b[0m\u001b[0;34m\u001b[0m\u001b[0;34m\u001b[0m\u001b[0m\n\u001b[1;32m    549\u001b[0m         \u001b[0;32melse\u001b[0m\u001b[0;34m:\u001b[0m\u001b[0;34m\u001b[0m\u001b[0;34m\u001b[0m\u001b[0m\n\u001b[0;32m--> 550\u001b[0;31m             \u001b[0mresult\u001b[0m \u001b[0;34m=\u001b[0m \u001b[0mself\u001b[0m\u001b[0;34m.\u001b[0m\u001b[0mforward\u001b[0m\u001b[0;34m(\u001b[0m\u001b[0;34m*\u001b[0m\u001b[0minput\u001b[0m\u001b[0;34m,\u001b[0m \u001b[0;34m**\u001b[0m\u001b[0mkwargs\u001b[0m\u001b[0;34m)\u001b[0m\u001b[0;34m\u001b[0m\u001b[0;34m\u001b[0m\u001b[0m\n\u001b[0m\u001b[1;32m    551\u001b[0m         \u001b[0;32mfor\u001b[0m \u001b[0mhook\u001b[0m \u001b[0;32min\u001b[0m \u001b[0mself\u001b[0m\u001b[0;34m.\u001b[0m\u001b[0m_forward_hooks\u001b[0m\u001b[0;34m.\u001b[0m\u001b[0mvalues\u001b[0m\u001b[0;34m(\u001b[0m\u001b[0;34m)\u001b[0m\u001b[0;34m:\u001b[0m\u001b[0;34m\u001b[0m\u001b[0;34m\u001b[0m\u001b[0m\n\u001b[1;32m    552\u001b[0m             \u001b[0mhook_result\u001b[0m \u001b[0;34m=\u001b[0m \u001b[0mhook\u001b[0m\u001b[0;34m(\u001b[0m\u001b[0mself\u001b[0m\u001b[0;34m,\u001b[0m \u001b[0minput\u001b[0m\u001b[0;34m,\u001b[0m \u001b[0mresult\u001b[0m\u001b[0;34m)\u001b[0m\u001b[0;34m\u001b[0m\u001b[0;34m\u001b[0m\u001b[0m\n",
      "\u001b[0;32m~/.conda/envs/RLPongDQN/lib/python3.8/site-packages/torch/nn/modules/activation.py\u001b[0m in \u001b[0;36mforward\u001b[0;34m(self, input)\u001b[0m\n\u001b[1;32m     92\u001b[0m \u001b[0;34m\u001b[0m\u001b[0m\n\u001b[1;32m     93\u001b[0m     \u001b[0;32mdef\u001b[0m \u001b[0mforward\u001b[0m\u001b[0;34m(\u001b[0m\u001b[0mself\u001b[0m\u001b[0;34m,\u001b[0m \u001b[0minput\u001b[0m\u001b[0;34m)\u001b[0m\u001b[0;34m:\u001b[0m\u001b[0;34m\u001b[0m\u001b[0;34m\u001b[0m\u001b[0m\n\u001b[0;32m---> 94\u001b[0;31m         \u001b[0;32mreturn\u001b[0m \u001b[0mF\u001b[0m\u001b[0;34m.\u001b[0m\u001b[0mrelu\u001b[0m\u001b[0;34m(\u001b[0m\u001b[0minput\u001b[0m\u001b[0;34m,\u001b[0m \u001b[0minplace\u001b[0m\u001b[0;34m=\u001b[0m\u001b[0mself\u001b[0m\u001b[0;34m.\u001b[0m\u001b[0minplace\u001b[0m\u001b[0;34m)\u001b[0m\u001b[0;34m\u001b[0m\u001b[0;34m\u001b[0m\u001b[0m\n\u001b[0m\u001b[1;32m     95\u001b[0m \u001b[0;34m\u001b[0m\u001b[0m\n\u001b[1;32m     96\u001b[0m     \u001b[0;32mdef\u001b[0m \u001b[0mextra_repr\u001b[0m\u001b[0;34m(\u001b[0m\u001b[0mself\u001b[0m\u001b[0;34m)\u001b[0m\u001b[0;34m:\u001b[0m\u001b[0;34m\u001b[0m\u001b[0;34m\u001b[0m\u001b[0m\n",
      "\u001b[0;32m~/.conda/envs/RLPongDQN/lib/python3.8/site-packages/torch/nn/functional.py\u001b[0m in \u001b[0;36mrelu\u001b[0;34m(input, inplace)\u001b[0m\n\u001b[1;32m   1061\u001b[0m         \u001b[0mresult\u001b[0m \u001b[0;34m=\u001b[0m \u001b[0mtorch\u001b[0m\u001b[0;34m.\u001b[0m\u001b[0mrelu_\u001b[0m\u001b[0;34m(\u001b[0m\u001b[0minput\u001b[0m\u001b[0;34m)\u001b[0m\u001b[0;34m\u001b[0m\u001b[0;34m\u001b[0m\u001b[0m\n\u001b[1;32m   1062\u001b[0m     \u001b[0;32melse\u001b[0m\u001b[0;34m:\u001b[0m\u001b[0;34m\u001b[0m\u001b[0;34m\u001b[0m\u001b[0m\n\u001b[0;32m-> 1063\u001b[0;31m         \u001b[0mresult\u001b[0m \u001b[0;34m=\u001b[0m \u001b[0mtorch\u001b[0m\u001b[0;34m.\u001b[0m\u001b[0mrelu\u001b[0m\u001b[0;34m(\u001b[0m\u001b[0minput\u001b[0m\u001b[0;34m)\u001b[0m\u001b[0;34m\u001b[0m\u001b[0;34m\u001b[0m\u001b[0m\n\u001b[0m\u001b[1;32m   1064\u001b[0m     \u001b[0;32mreturn\u001b[0m \u001b[0mresult\u001b[0m\u001b[0;34m\u001b[0m\u001b[0;34m\u001b[0m\u001b[0m\n\u001b[1;32m   1065\u001b[0m \u001b[0;34m\u001b[0m\u001b[0m\n",
      "\u001b[0;31mKeyboardInterrupt\u001b[0m: "
     ]
    }
   ],
   "source": [
    "import time\n",
    "\n",
    "epsilon_by_frame = lambda frame_idx: args.epsilon_final + (args.epsilon_start - args.epsilon_final) * math.exp(-1. * frame_idx / args.epsilon_decay)\n",
    "\n",
    "losses = []\n",
    "all_rewards = []\n",
    "episode_reward = 0\n",
    "num_param_updates = 0\n",
    "mean_reward = -float('nan')\n",
    "mean_reward2 = -float('nan')\n",
    "best_mean_reward = -float('inf')\n",
    "best_mean_reward2 = -float('inf')\n",
    "time_history = [] # records time (in sec) of each episode\n",
    "\n",
    "state = env.reset()\n",
    "start_time_frame = time.time()\n",
    "for frame_idx in range(1, args.num_frames + 1):\n",
    "    start_time = time.time()\n",
    "\n",
    "    epsilon = epsilon_by_frame(frame_idx)\n",
    "    action = model_Q.act(state, epsilon)\n",
    "\n",
    "    next_state, reward, done, _ = env.step(action)\n",
    "    replay_buffer.push(state, action, reward, next_state, done)\n",
    "\n",
    "    state = next_state\n",
    "    episode_reward += reward\n",
    "    if done:\n",
    "        print('done')\n",
    "        state = env.reset()\n",
    "        all_rewards.append(episode_reward)\n",
    "        time_history.append(time.time() - start_time)\n",
    "        episode_reward = 0\n",
    "\n",
    "    if args.render==1:\n",
    "        env.render()\n",
    "\n",
    "    if len(replay_buffer) > replay_initial:\n",
    "        for nou in range(args.number_of_updates):\n",
    "            loss = compute_td_loss(model_Q, model_target_Q, args.batch_size, args.gamma, replay_buffer, args.N)\n",
    "            optimizer.zero_grad()\n",
    "            loss.backward()\n",
    "            optimizer.step()\n",
    "            losses.append(loss.data.cpu().numpy())\n",
    "            num_param_updates += 1\n",
    "        # Periodically update the target network by Q network to target Q network\n",
    "        if num_param_updates % args.target_update_freq == 0:\n",
    "            model_target_Q.load_state_dict(model_Q.state_dict())\n",
    "\n",
    "    if frame_idx % 1000 == 0 and len(replay_buffer) <= replay_initial:\n",
    "        print(\"Preparing replay buffer with len -- \", len(replay_buffer),\n",
    "              \"Frame:\", frame_idx,\n",
    "              \"Total time so far:\", (time.time() - start_time_frame))\n",
    "\n",
    "    if frame_idx % 1000 == 0 and len(replay_buffer) > replay_initial:\n",
    "        mean_reward = np.mean(all_rewards[-10:])\n",
    "        mean_reward2 = np.mean(all_rewards[-100:])\n",
    "        best_mean_reward = max(best_mean_reward, mean_reward)\n",
    "        best_mean_reward2 = max(best_mean_reward2, mean_reward2)\n",
    "        print(\"Frame:\", frame_idx,\n",
    "              \"Loss:\", np.mean(losses),\n",
    "              \"Total Rewards:\", all_rewards[-1],\n",
    "              \"Average Rewards over all frames:\", np.mean(all_rewards),\n",
    "              \"Last-10 average reward:\", mean_reward,\n",
    "              \"Best mean reward of last-10:\", best_mean_reward,\n",
    "              \"Last-100 average reward:\", mean_reward2,\n",
    "              \"Best mean reward of last-100:\", best_mean_reward2,\n",
    "              \"Time:\", time_history[-1],\n",
    "              \"Total time so far:\", (time.time() - start_time_frame))"
   ]
  },
  {
   "cell_type": "code",
   "execution_count": 50,
   "metadata": {},
   "outputs": [],
   "source": [
    "for frame_idx in range(1, num_frames + 1):\n",
    "\n",
    "    epsilon = epsilon_by_frame(frame_idx)\n",
    "    action = model.act(state, epsilon)\n",
    "    \n",
    "    next_state, reward, done, _ = env.step(action)\n",
    "    replay_buffer.push(state, action, reward, next_state, done)\n",
    "    \n",
    "    state = next_state\n",
    "    episode_reward += reward\n",
    "    if done:\n",
    "        state = env.reset()\n",
    "        all_rewards.append(episode_reward)\n",
    "        episode_reward = 0\n",
    "\n",
    "    if len(replay_buffer) > replay_initial:\n",
    "        loss = compute_td_loss(model_Q, model_target_Q, args.batch_size, args.gamma, replay_buffer, args.N)\n",
    "        optimizer.zero_grad()\n",
    "        loss.backward()\n",
    "        optimizer.step()\n",
    "        losses.append(loss.data.cpu().numpy())\n",
    "\n",
    "    if frame_idx % 10000 == 0 and len(replay_buffer) <= replay_initial:\n",
    "        print('#Frame: %d, preparing replay buffer' % frame_idx)\n",
    "        print(len(replay_buffer))\n",
    "    if frame_idx % 10000 == 0 and len(replay_buffer) > replay_initial:\n",
    "        print('#Frame: %d, Loss: %f' % (frame_idx, np.mean(losses)))\n",
    "        print('Last-10 average reward: %f' % np.mean(all_rewards[-10:]))"
   ]
  },
  {
   "cell_type": "markdown",
   "metadata": {},
   "source": [
    "# Plot"
   ]
  },
  {
   "cell_type": "code",
   "execution_count": 185,
   "metadata": {},
   "outputs": [],
   "source": [
    "model_result_path = '../results/DQN/model_default_lr3e_5.pth'\n",
    "\n",
    "replay_initial = 10000 #50000\n",
    "replay_buffer = ReplayBuffer(args.capacity)"
   ]
  },
  {
   "cell_type": "code",
   "execution_count": 186,
   "metadata": {},
   "outputs": [],
   "source": [
    "model_new = QLearner(env, args, replay_buffer)\n",
    "model_new.load_state_dict(torch.load(model_result_path))\n",
    "model_new = model_new.cuda()"
   ]
  },
  {
   "cell_type": "code",
   "execution_count": 187,
   "metadata": {},
   "outputs": [
    {
     "data": {
      "text/plain": [
       "{'render.modes': ['human', 'rgb_array']}"
      ]
     },
     "execution_count": 187,
     "metadata": {},
     "output_type": "execute_result"
    }
   ],
   "source": [
    "env.env.metadata"
   ]
  },
  {
   "cell_type": "code",
   "execution_count": 188,
   "metadata": {},
   "outputs": [],
   "source": [
    "image_obs = []\n",
    "render = True\n",
    "render_mode = 'rgb_array'\n",
    "# Environment\n",
    "env_id = \"PongNoFrameskip-v4\"\n",
    "env = make_atari(env_id)\n",
    "env = wrap_deepmind(env)\n",
    "env = wrap_pytorch(env)\n",
    "state = env.reset()\n",
    "for ii in range(1000):\n",
    "    epsilon = epsilon_by_frame(frame_idx)\n",
    "    action = model_new.act(state, epsilon)\n",
    "    next_state, reward, done, _ = env.step(action)\n",
    "    state = next_state\n",
    "    \n",
    "    # render image of the simulated env\n",
    "\n",
    "    if render:\n",
    "        if 'rgb_array' in render_mode:\n",
    "            if hasattr(env, 'sim'):\n",
    "                image_obs.append(env.sim.render(camera_name='track', height=500, width=500)[::-1])\n",
    "            else:\n",
    "                image_obs.append(env.render(mode=render_mode))\n",
    "        if 'human' in render_mode:\n",
    "            env.render(mode=render_mode)\n",
    "            time.sleep(env.model.opt.timestep)\n",
    "\n",
    "    if done:\n",
    "        state = env.reset()"
   ]
  },
  {
   "cell_type": "code",
   "execution_count": 63,
   "metadata": {},
   "outputs": [
    {
     "name": "stdout",
     "output_type": "stream",
     "text": [
      "(1000, 210, 160, 3)\n"
     ]
    },
    {
     "data": {
      "text/plain": [
       "<matplotlib.image.AxesImage at 0x7fabd34cac40>"
      ]
     },
     "execution_count": 63,
     "metadata": {},
     "output_type": "execute_result"
    },
    {
     "data": {
      "image/png": "[encoded data removed]",
      "text/plain": [
       "<Figure size 432x288 with 1 Axes>"
      ]
     },
     "metadata": {
      "needs_background": "light"
     },
     "output_type": "display_data"
    }
   ],
   "source": [
    "print(np.asarray(image_obs).shape)\n",
    "plt.imshow(image_obs[-1])\n"
   ]
  },
  {
   "cell_type": "code",
   "execution_count": 67,
   "metadata": {},
   "outputs": [],
   "source": [
    "# # Environment\n",
    "# env_id = \"PongNoFrameskip-v4\"\n",
    "# env = make_atari(env_id)\n",
    "# env = wrap_deepmind(env)\n",
    "# env = wrap_pytorch(env)\n",
    "# state = env.reset()\n",
    "# for ii in range(10000):\n",
    "#     epsilon = epsilon_by_frame(frame_idx)\n",
    "#     action = model_new.act(state, epsilon)\n",
    "#     next_state, reward, done, _ = env.step(action)\n",
    "#     state = next_state\n",
    "#     if ii%100==0:\n",
    "#         env.render()\n",
    "#         env.close()\n",
    "#         plt.ioff()\n",
    "#         plt.show()"
   ]
  },
  {
   "cell_type": "markdown",
   "metadata": {},
   "source": []
  },
  {
   "cell_type": "code",
   "execution_count": 101,
   "metadata": {},
   "outputs": [
    {
     "name": "stdout",
     "output_type": "stream",
     "text": [
      "done\n"
     ]
    }
   ],
   "source": [
    "import pandas as pd\n",
    "import re\n",
    "# log_path = '../results/DQN/slurm-90336.out'\n",
    "log_path = 'final_logs/final_slurm_lr3e_5_frame_1M.out'\n",
    "# log_path = 'final_logs/slurm-90335.out'\n",
    "# log_path = 'final_logs/slurm-90338.out'\n",
    "lr=0\n",
    "# def parse_traning_logs(log_path):\n",
    "with open(log_path) as logfile :\n",
    "    raw_log_data = logfile.readlines()\n",
    "    \n",
    "    log_data = {}\n",
    "    set_count = 0\n",
    "    set_label = None\n",
    "    frames = []; losses = []; tot_rews = []; avg_all_frames = []; last_ten_avgs = []; best_mean_last_tens = []\n",
    "    times = []; tot_times = []\n",
    "    for log in raw_log_data:\n",
    "        if log.startswith('Frame'):\n",
    "            frame, loss, tot_rew, avg_all_frame, \\\n",
    "            _, last_ten_avg, _, best_mean_last_ten,\\\n",
    "            time, tot_time = re.findall(r\"[-+]?\\d*\\.\\d+|\\d+\", log)\n",
    "            frames.append(int(frame))\n",
    "            losses.append(float(loss))\n",
    "            tot_rews.append(float(tot_rew))\n",
    "            avg_all_frames.append(float(avg_all_frame))\n",
    "            last_ten_avgs.append(float(last_ten_avg))\n",
    "            best_mean_last_tens.append(float(best_mean_last_ten))\n",
    "            times.append(float(time))\n",
    "            tot_times.append(float(tot_time))\n",
    "        if log.startswith('Namespace'):\n",
    "            aa = re.findall(r\"lr=\\d*e[-+]\\d*\", log)\n",
    "            if len(aa)==0:\n",
    "                aa = re.findall(r\"lr=\\d+\\.\\d+\", log)\n",
    "            _,lr = aa[0].split('=')\n",
    "\n",
    "        log_data['Learning Rate'] = lr\n",
    "        log_data['Frames'] = frames\n",
    "        log_data['Loss'] = losses\n",
    "        log_data['Total rewards'] = tot_rews\n",
    "        log_data['Average Rewards over all frames'] = avg_all_frames\n",
    "        log_data['Mean reward (Past 10 episodes)'] = last_ten_avgs\n",
    "        log_data['Best Mean reward (Past 10 episodes)'] = best_mean_last_tens\n",
    "        \n",
    "        \n",
    "print('done')\n",
    "log_data= pd.DataFrame(log_data)"
   ]
  },
  {
   "cell_type": "code",
   "execution_count": 102,
   "metadata": {},
   "outputs": [],
   "source": [
    "# from bokeh.plotting import figure \n",
    "# from bokeh.models import Legend\n",
    "# from bokeh.layouts import column\n",
    "# from bokeh.io import output_notebook, show\n",
    "\n",
    "# plot_priority_order = [\n",
    "#         'Mean reward (Past 10 episodes)',\n",
    "#         'Best Mean reward (Past 10 episodes)',\n",
    "#         'Loss']\n",
    "# plots = []\n",
    "# for key in plot_priority_order:\n",
    "#     plots.append(figure(plot_width=900, plot_height=300, y_axis_label=key, x_axis_label='Frames'))\n",
    "#     plots[-1].line(log_data[key].index, log_data[key], line_width=2)\n",
    "# main_row = column(*plots)\n",
    "# show(main_row)"
   ]
  },
  {
   "cell_type": "code",
   "execution_count": 103,
   "metadata": {},
   "outputs": [
    {
     "data": {
      "image/png": "[encoded data removed]",
      "text/plain": [
       "<Figure size 720x1440 with 2 Axes>"
      ]
     },
     "metadata": {
      "needs_background": "light"
     },
     "output_type": "display_data"
    }
   ],
   "source": [
    "import matplotlib.pyplot as plt\n",
    "\n",
    "plt.figure(1,figsize=(10,20))\n",
    "plt.subplot(211)\n",
    "plt.plot(log_data['Frames'].values,log_data['Mean reward (Past 10 episodes)'].values)\n",
    "plt.subplot(212)\n",
    "plt.plot(log_data['Frames'].values,log_data['Loss'].values)\n",
    "plt.show()\n"
   ]
  },
  {
   "cell_type": "markdown",
   "metadata": {},
   "source": [
    "# embedding representations"
   ]
  },
  {
   "cell_type": "markdown",
   "metadata": {},
   "source": [
    "### creating embedding matrix"
   ]
  },
  {
   "cell_type": "code",
   "execution_count": 240,
   "metadata": {},
   "outputs": [],
   "source": [
    "model_result_path = '../results/DQN/model_default_lr3e_5.pth'\n",
    "\n",
    "replay_initial = 10000 #50000\n",
    "replay_buffer = ReplayBuffer(args.capacity)\n",
    "\n",
    "model_new = QLearner(env, args, replay_buffer)\n",
    "model_new.load_state_dict(torch.load(model_result_path))\n",
    "model_new = model_new.cuda()"
   ]
  },
  {
   "cell_type": "code",
   "execution_count": 241,
   "metadata": {},
   "outputs": [
    {
     "name": "stdout",
     "output_type": "stream",
     "text": [
      "torch.Size([64, 64, 3, 3])\n",
      "torch.Size([64, 32, 4, 4])\n",
      "torch.Size([32, 1, 8, 8])\n",
      "torch.Size([512, 3136])\n",
      "torch.Size([6, 512])\n"
     ]
    }
   ],
   "source": [
    "ww = torch.load(model_result_path)\n",
    "print(ww['features.4.weight'].shape)\n",
    "print(ww['features.2.weight'].shape)\n",
    "print(ww['features.0.weight'].shape)\n",
    "print(ww['fc.0.weight'].shape)\n",
    "print(ww['fc.2.weight'].shape)\n",
    "\n",
    "\n"
   ]
  },
  {
   "cell_type": "code",
   "execution_count": 243,
   "metadata": {},
   "outputs": [],
   "source": [
    "labels=[]\n",
    "state_embeddings= []\n",
    "state_embeddings_flat = []\n",
    "state_tp1_embeddings=[]\n",
    "# Environment\n",
    "env_id = \"PongNoFrameskip-v4\"\n",
    "env = make_atari(env_id)\n",
    "env = wrap_deepmind(env)\n",
    "env = wrap_pytorch(env)\n",
    "state = env.reset()\n",
    "\n",
    "\n",
    "done=False\n",
    "\n",
    "while not(done):\n",
    "    \n",
    "    epsilon = epsilon_by_frame(frame_idx)\n",
    "    \n",
    "    with torch.no_grad():\n",
    "    \n",
    "        action = model_new.act(state, epsilon)\n",
    "        next_state, reward, done, _ = env.step(action)\n",
    "        \n",
    "        emb_state   = Variable(torch.FloatTensor(np.float32(state)).unsqueeze(0))\n",
    "        emb_next_state   = Variable(torch.FloatTensor(np.float32(next_state)).unsqueeze(0))\n",
    "        \n",
    "        state_embedding = model_new.features(emb_state)\n",
    "        state_embedding = state_embedding.squeeze()\n",
    "        state_embedding = state_embedding.cpu().numpy()\n",
    "        \n",
    "        state_embeddings.append(state_embedding)\n",
    "        state_embeddings_flat.append(state_embedding.reshape(1,-1))\n",
    "        labels.append(action)\n",
    "        \n",
    "        state = next_state\n"
   ]
  },
  {
   "cell_type": "code",
   "execution_count": 244,
   "metadata": {},
   "outputs": [],
   "source": [
    "labels = np.asarray(labels)\n",
    "state_embeddings = np.asarray(state_embeddings)\n",
    "state_embeddings_flat = np.asarray(state_embeddings_flat).squeeze()"
   ]
  },
  {
   "cell_type": "code",
   "execution_count": 245,
   "metadata": {},
   "outputs": [
    {
     "data": {
      "text/plain": [
       "array([4, 1, 5, ..., 1, 1, 1])"
      ]
     },
     "execution_count": 245,
     "metadata": {},
     "output_type": "execute_result"
    }
   ],
   "source": [
    "labels"
   ]
  },
  {
   "cell_type": "code",
   "execution_count": 246,
   "metadata": {},
   "outputs": [],
   "source": [
    "from sklearn.manifold import MDS,TSNE\n",
    "from sklearn.decomposition import PCA\n",
    "import matplotlib.pyplot as plt\n",
    "from matplotlib.colors import ListedColormap"
   ]
  },
  {
   "cell_type": "code",
   "execution_count": 247,
   "metadata": {},
   "outputs": [],
   "source": [
    "colors = ['green','blue','red','purple','orange','cyan']"
   ]
  },
  {
   "cell_type": "code",
   "execution_count": 249,
   "metadata": {},
   "outputs": [],
   "source": [
    "mds_emb = MDS(n_components=2)\n",
    "mds_emb_2d = mds_emb.fit_transform(state_embeddings_flat)"
   ]
  },
  {
   "cell_type": "code",
   "execution_count": 256,
   "metadata": {},
   "outputs": [
    {
     "data": {
      "image/png": "[encoded data removed]",
      "text/plain": [
       "<Figure size 432x288 with 1 Axes>"
      ]
     },
     "metadata": {},
     "output_type": "display_data"
    }
   ],
   "source": [
    "plt.scatter(mds_emb_2d[:,0],mds_emb_2d[:,1],c=labels,cmap=ListedColormap(colors))\n",
    "plt.title(\"MDS\")\n",
    "plt.tick_params(          \n",
    "    axis='both',\n",
    "    which='both',\n",
    "    bottom=False,\n",
    "    top=False, \n",
    "    left=False,\n",
    "    labelbottom=False,\n",
    "    labelleft=False)\n",
    "plt.ticklabel_format(style='plain',useOffset=False)\n",
    "# plt.savefig(\"figures/mds_rand.png\",bbox_inches = 'tight',pad_inches = 0.1,dpi=100)\n",
    "plt.show()"
   ]
  },
  {
   "cell_type": "code",
   "execution_count": 251,
   "metadata": {},
   "outputs": [],
   "source": [
    "tsne_emb = TSNE(n_components=2)\n",
    "tsne_emb_2d = tsne_emb.fit_transform(state_embeddings_flat)"
   ]
  },
  {
   "cell_type": "code",
   "execution_count": 257,
   "metadata": {},
   "outputs": [
    {
     "data": {
      "image/png": "[encoded data removed]",
      "text/plain": [
       "<Figure size 432x288 with 1 Axes>"
      ]
     },
     "metadata": {},
     "output_type": "display_data"
    }
   ],
   "source": [
    "plt.scatter(tsne_emb_2d[:,0],tsne_emb_2d[:,1],c=labels,cmap=ListedColormap(colors))\n",
    "plt.title(\"tSNE\")\n",
    "plt.tick_params(          \n",
    "    axis='both',\n",
    "    which='both',\n",
    "    bottom=False,\n",
    "    top=False, \n",
    "    left=False,\n",
    "    labelbottom=False,\n",
    "    labelleft=False)\n",
    "plt.ticklabel_format(style='plain',useOffset=False)\n",
    "# plt.savefig(\"figures/mds_rand.png\",bbox_inches = 'tight',pad_inches = 0.1,dpi=100)\n",
    "plt.show()"
   ]
  },
  {
   "cell_type": "code",
   "execution_count": 254,
   "metadata": {},
   "outputs": [],
   "source": [
    "pca_emb = PCA(n_components=2)\n",
    "pca_emb_2d = pca_emb.fit_transform(state_embeddings_flat)"
   ]
  },
  {
   "cell_type": "code",
   "execution_count": 258,
   "metadata": {},
   "outputs": [
    {
     "data": {
      "image/png": "[encoded data removed]",
      "text/plain": [
       "<Figure size 432x288 with 1 Axes>"
      ]
     },
     "metadata": {},
     "output_type": "display_data"
    }
   ],
   "source": [
    "plt.scatter(pca_emb_2d[:,0],pca_emb_2d[:,1],c=labels,cmap=ListedColormap(colors))\n",
    "plt.title(\"PCA\")\n",
    "plt.tick_params(          \n",
    "    axis='both',\n",
    "    which='both',\n",
    "    bottom=False,\n",
    "    top=False, \n",
    "    left=False,\n",
    "    labelbottom=False,\n",
    "    labelleft=False)\n",
    "plt.ticklabel_format(style='plain',useOffset=False)\n",
    "# plt.savefig(\"figures/mds_rand.png\",bbox_inches = 'tight',pad_inches = 0.1,dpi=100)\n",
    "plt.show()"
   ]
  },
  {
   "cell_type": "code",
   "execution_count": null,
   "metadata": {},
   "outputs": [],
   "source": []
  }
 ],
 "metadata": {
  "kernelspec": {
   "display_name": "RLPongDQN",
   "language": "python",
   "name": "rlpongdqn"
  },
  "language_info": {
   "codemirror_mode": {
    "name": "ipython",
    "version": 3
   },
   "file_extension": ".py",
   "mimetype": "text/x-python",
   "name": "python",
   "nbconvert_exporter": "python",
   "pygments_lexer": "ipython3",
   "version": "3.8.2"
  }
 },
 "nbformat": 4,
 "nbformat_minor": 2
}
